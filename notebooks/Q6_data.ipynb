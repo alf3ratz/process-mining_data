{
 "cells": [
  {
   "cell_type": "code",
   "execution_count": null,
   "metadata": {
    "id": "RN4fUW5cpekj"
   },
   "outputs": [],
   "source": [
    "import re\n",
    "import numpy as np\n",
    "import pandas as pd"
   ]
  },
  {
   "cell_type": "code",
   "execution_count": null,
   "metadata": {
    "id": "_hTp_ywXnYCc"
   },
   "outputs": [],
   "source": [
    "f = open(\"../data/Q6_data_full.txt\", \"r\")\n",
    "s = f.read()\n",
    "s = s.split('\\n')"
   ]
  },
  {
   "cell_type": "code",
   "execution_count": null,
   "metadata": {
    "colab": {
     "base_uri": "https://localhost:8080/"
    },
    "id": "KI13MqJknyg6",
    "outputId": "c0eeda07-892b-4af9-c8a5-4e57e74dc906"
   },
   "outputs": [],
   "source": [
    "s[:5]"
   ]
  },
  {
   "cell_type": "code",
   "execution_count": null,
   "metadata": {
    "id": "TdOhJANSn3FZ"
   },
   "outputs": [],
   "source": [
    "s = [line.strip() for line in s]\n",
    "s = s[2:]"
   ]
  },
  {
   "cell_type": "code",
   "execution_count": null,
   "metadata": {
    "colab": {
     "base_uri": "https://localhost:8080/"
    },
    "id": "-Umz3zV2oPbL",
    "outputId": "b03b2da1-4436-4010-fc8b-a93639da650e"
   },
   "outputs": [],
   "source": [
    "s[:3]"
   ]
  },
  {
   "cell_type": "code",
   "execution_count": null,
   "metadata": {
    "id": "EgeYHLohooOb"
   },
   "outputs": [],
   "source": [
    "s = [re.split('\\(|\\)|,\\s+|\\s+', line)[:5] for line in s]"
   ]
  },
  {
   "cell_type": "code",
   "execution_count": null,
   "metadata": {
    "id": "jvqxUe3fsWzs"
   },
   "outputs": [],
   "source": [
    "df = pd.DataFrame(columns=['relative_timestamp', 'operation', 'path', 'p2', 'p3'], data=s)\n",
    "df.drop(['p2', 'p3'], axis=1, inplace=True)\n",
    "df.index.name = 'pd_timestamp'\n",
    "\n",
    "df = df.astype(\"string\")"
   ]
  },
  {
   "cell_type": "code",
   "execution_count": null,
   "metadata": {},
   "outputs": [],
   "source": [
    "df = df[df[\"path\"].str.contains(\"/Comnata\")][df[\"path\"].str.contains(\".kt\")]\n",
    "df[\"action\"] = df[\"path\"].str.extract(r\"(nmbr\\d+)\")[0].str.extract(r\"(\\d+)\")\n",
    "df[\"operation_file\"] = df[\"operation\"] + \" | \" + df[\"path\"].str.extract(r\"([A-Za-z]+\\.kt)\")[0]\n",
    "df = df[df['operation_file'].notna()]"
   ]
  },
  {
   "cell_type": "code",
   "execution_count": null,
   "metadata": {
    "colab": {
     "base_uri": "https://localhost:8080/",
     "height": 206
    },
    "id": "rqWvyG4uv8VJ",
    "outputId": "d2acc1bb-8bd0-4c86-d16a-bcd53cdcd1c1"
   },
   "outputs": [],
   "source": [
    "df.head()"
   ]
  },
  {
   "cell_type": "code",
   "execution_count": null,
   "metadata": {
    "id": "p0Z8OJnft9nr"
   },
   "outputs": [],
   "source": [
    "df.to_csv('../data/Q6_data_filtered.csv', sep=',')"
   ]
  }
 ],
 "metadata": {
  "colab": {
   "provenance": []
  },
  "kernelspec": {
   "display_name": "Python 3 (ipykernel)",
   "language": "python",
   "name": "python3"
  },
  "language_info": {
   "codemirror_mode": {
    "name": "ipython",
    "version": 3
   },
   "file_extension": ".py",
   "mimetype": "text/x-python",
   "name": "python",
   "nbconvert_exporter": "python",
   "pygments_lexer": "ipython3",
   "version": "3.9.13"
  }
 },
 "nbformat": 4,
 "nbformat_minor": 1
}
