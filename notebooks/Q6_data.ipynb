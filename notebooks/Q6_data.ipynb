{
  "nbformat": 4,
  "nbformat_minor": 0,
  "metadata": {
    "colab": {
      "provenance": []
    },
    "kernelspec": {
      "name": "python3",
      "display_name": "Python 3"
    },
    "language_info": {
      "name": "python"
    }
  },
  "cells": [
    {
      "cell_type": "code",
      "source": [
        "import re\n",
        "import numpy as np\n",
        "import pandas as pd"
      ],
      "metadata": {
        "id": "RN4fUW5cpekj"
      },
      "execution_count": 180,
      "outputs": []
    },
    {
      "cell_type": "code",
      "execution_count": 181,
      "metadata": {
        "id": "_hTp_ywXnYCc"
      },
      "outputs": [],
      "source": [
        "f = open(\"Q6_data_full.txt\", \"r\")\n",
        "s = f.read()\n",
        "s = s.split('\\n')"
      ]
    },
    {
      "cell_type": "code",
      "source": [
        "s[:5]"
      ],
      "metadata": {
        "colab": {
          "base_uri": "https://localhost:8080/"
        },
        "id": "KI13MqJknyg6",
        "outputId": "c0eeda07-892b-4af9-c8a5-4e57e74dc906"
      },
      "execution_count": 182,
      "outputs": [
        {
          "output_type": "execute_result",
          "data": {
            "text/plain": [
              "['RELATIVE SYSCALL(args) \\t\\t = return',\n",
              " 'dtrace: 1781 dynamic variable drops with non-empty dirty list',\n",
              " '12122798 psynch_cvsignal(0x7FD13E0CAEC0, 0xE6CA0000E6CB00, 0xE6CA00)\\t\\t = 257 0',\n",
              " '12122974 psynch_cvsignal(0x7FD13E0CAEC0, 0xE6CB0000E6CC00, 0xE6CB00)\\t\\t = 257 0',\n",
              " '46453425 psynch_cvwait(0x7FD13E0CAEC0, 0xE6CB0100E6CC00, 0xE6CB00)\\t\\t = 0 0']"
            ]
          },
          "metadata": {},
          "execution_count": 182
        }
      ]
    },
    {
      "cell_type": "code",
      "source": [
        "s = [line.strip() for line in s]\n",
        "s = s[2:]"
      ],
      "metadata": {
        "id": "TdOhJANSn3FZ"
      },
      "execution_count": 183,
      "outputs": []
    },
    {
      "cell_type": "code",
      "source": [
        "s[:3]"
      ],
      "metadata": {
        "colab": {
          "base_uri": "https://localhost:8080/"
        },
        "id": "-Umz3zV2oPbL",
        "outputId": "b03b2da1-4436-4010-fc8b-a93639da650e"
      },
      "execution_count": 184,
      "outputs": [
        {
          "output_type": "execute_result",
          "data": {
            "text/plain": [
              "['12122798 psynch_cvsignal(0x7FD13E0CAEC0, 0xE6CA0000E6CB00, 0xE6CA00)\\t\\t = 257 0',\n",
              " '12122974 psynch_cvsignal(0x7FD13E0CAEC0, 0xE6CB0000E6CC00, 0xE6CB00)\\t\\t = 257 0',\n",
              " '46453425 psynch_cvwait(0x7FD13E0CAEC0, 0xE6CB0100E6CC00, 0xE6CB00)\\t\\t = 0 0']"
            ]
          },
          "metadata": {},
          "execution_count": 184
        }
      ]
    },
    {
      "cell_type": "code",
      "source": [
        "s = [re.split('\\(|\\)|,\\s+|\\s+', line)[:5] for line in s]"
      ],
      "metadata": {
        "id": "EgeYHLohooOb"
      },
      "execution_count": 185,
      "outputs": []
    },
    {
      "cell_type": "code",
      "source": [
        "df = pd.DataFrame(columns=['relative_timestamp', 'operation', 'p1', 'p2', 'p3'], data=s)\n",
        "df = df.astype(\"string\")\n",
        "df = df[df[\"p1\"].str.contains(\"/Users\")]"
      ],
      "metadata": {
        "id": "jvqxUe3fsWzs"
      },
      "execution_count": 186,
      "outputs": []
    },
    {
      "cell_type": "code",
      "source": [
        "df.head()"
      ],
      "metadata": {
        "colab": {
          "base_uri": "https://localhost:8080/",
          "height": 206
        },
        "id": "rqWvyG4uv8VJ",
        "outputId": "d2acc1bb-8bd0-4c86-d16a-bcd53cdcd1c1"
      },
      "execution_count": 187,
      "outputs": [
        {
          "output_type": "execute_result",
          "data": {
            "text/plain": [
              "      relative_timestamp operation  \\\n",
              "1882              243690      open   \n",
              "26669           10719404    stat64   \n",
              "26670           10719444    stat64   \n",
              "26675           10721395    stat64   \n",
              "26676           10721423    stat64   \n",
              "\n",
              "                                                      p1              p2  \\\n",
              "1882   \"/Users/vakosta/Library/Caches/JetBrains/Intel...           0x202   \n",
              "26669  \"/Users/vakosta/Developer/IdeaProjects/Comnata...  0x70000FA0F3A0   \n",
              "26670  \"/Users/vakosta/Developer/IdeaProjects/Comnata...  0x70000FA0F3A0   \n",
              "26675  \"/Users/vakosta/Developer/IdeaProjects/Comnata...  0x70000FA0EEC0   \n",
              "26676  \"/Users/vakosta/Developer/IdeaProjects/Comnata...  0x70000FA0EEC0   \n",
              "\n",
              "          p3  \n",
              "1882   0x1B6  \n",
              "26669    0x0  \n",
              "26670    0x0  \n",
              "26675    0x0  \n",
              "26676    0x0  "
            ],
            "text/html": [
              "\n",
              "  <div id=\"df-95b9321e-a6ba-494f-9003-c980c2e07ca9\">\n",
              "    <div class=\"colab-df-container\">\n",
              "      <div>\n",
              "<style scoped>\n",
              "    .dataframe tbody tr th:only-of-type {\n",
              "        vertical-align: middle;\n",
              "    }\n",
              "\n",
              "    .dataframe tbody tr th {\n",
              "        vertical-align: top;\n",
              "    }\n",
              "\n",
              "    .dataframe thead th {\n",
              "        text-align: right;\n",
              "    }\n",
              "</style>\n",
              "<table border=\"1\" class=\"dataframe\">\n",
              "  <thead>\n",
              "    <tr style=\"text-align: right;\">\n",
              "      <th></th>\n",
              "      <th>relative_timestamp</th>\n",
              "      <th>operation</th>\n",
              "      <th>p1</th>\n",
              "      <th>p2</th>\n",
              "      <th>p3</th>\n",
              "    </tr>\n",
              "  </thead>\n",
              "  <tbody>\n",
              "    <tr>\n",
              "      <th>1882</th>\n",
              "      <td>243690</td>\n",
              "      <td>open</td>\n",
              "      <td>\"/Users/vakosta/Library/Caches/JetBrains/Intel...</td>\n",
              "      <td>0x202</td>\n",
              "      <td>0x1B6</td>\n",
              "    </tr>\n",
              "    <tr>\n",
              "      <th>26669</th>\n",
              "      <td>10719404</td>\n",
              "      <td>stat64</td>\n",
              "      <td>\"/Users/vakosta/Developer/IdeaProjects/Comnata...</td>\n",
              "      <td>0x70000FA0F3A0</td>\n",
              "      <td>0x0</td>\n",
              "    </tr>\n",
              "    <tr>\n",
              "      <th>26670</th>\n",
              "      <td>10719444</td>\n",
              "      <td>stat64</td>\n",
              "      <td>\"/Users/vakosta/Developer/IdeaProjects/Comnata...</td>\n",
              "      <td>0x70000FA0F3A0</td>\n",
              "      <td>0x0</td>\n",
              "    </tr>\n",
              "    <tr>\n",
              "      <th>26675</th>\n",
              "      <td>10721395</td>\n",
              "      <td>stat64</td>\n",
              "      <td>\"/Users/vakosta/Developer/IdeaProjects/Comnata...</td>\n",
              "      <td>0x70000FA0EEC0</td>\n",
              "      <td>0x0</td>\n",
              "    </tr>\n",
              "    <tr>\n",
              "      <th>26676</th>\n",
              "      <td>10721423</td>\n",
              "      <td>stat64</td>\n",
              "      <td>\"/Users/vakosta/Developer/IdeaProjects/Comnata...</td>\n",
              "      <td>0x70000FA0EEC0</td>\n",
              "      <td>0x0</td>\n",
              "    </tr>\n",
              "  </tbody>\n",
              "</table>\n",
              "</div>\n",
              "      <button class=\"colab-df-convert\" onclick=\"convertToInteractive('df-95b9321e-a6ba-494f-9003-c980c2e07ca9')\"\n",
              "              title=\"Convert this dataframe to an interactive table.\"\n",
              "              style=\"display:none;\">\n",
              "        \n",
              "  <svg xmlns=\"http://www.w3.org/2000/svg\" height=\"24px\"viewBox=\"0 0 24 24\"\n",
              "       width=\"24px\">\n",
              "    <path d=\"M0 0h24v24H0V0z\" fill=\"none\"/>\n",
              "    <path d=\"M18.56 5.44l.94 2.06.94-2.06 2.06-.94-2.06-.94-.94-2.06-.94 2.06-2.06.94zm-11 1L8.5 8.5l.94-2.06 2.06-.94-2.06-.94L8.5 2.5l-.94 2.06-2.06.94zm10 10l.94 2.06.94-2.06 2.06-.94-2.06-.94-.94-2.06-.94 2.06-2.06.94z\"/><path d=\"M17.41 7.96l-1.37-1.37c-.4-.4-.92-.59-1.43-.59-.52 0-1.04.2-1.43.59L10.3 9.45l-7.72 7.72c-.78.78-.78 2.05 0 2.83L4 21.41c.39.39.9.59 1.41.59.51 0 1.02-.2 1.41-.59l7.78-7.78 2.81-2.81c.8-.78.8-2.07 0-2.86zM5.41 20L4 18.59l7.72-7.72 1.47 1.35L5.41 20z\"/>\n",
              "  </svg>\n",
              "      </button>\n",
              "      \n",
              "  <style>\n",
              "    .colab-df-container {\n",
              "      display:flex;\n",
              "      flex-wrap:wrap;\n",
              "      gap: 12px;\n",
              "    }\n",
              "\n",
              "    .colab-df-convert {\n",
              "      background-color: #E8F0FE;\n",
              "      border: none;\n",
              "      border-radius: 50%;\n",
              "      cursor: pointer;\n",
              "      display: none;\n",
              "      fill: #1967D2;\n",
              "      height: 32px;\n",
              "      padding: 0 0 0 0;\n",
              "      width: 32px;\n",
              "    }\n",
              "\n",
              "    .colab-df-convert:hover {\n",
              "      background-color: #E2EBFA;\n",
              "      box-shadow: 0px 1px 2px rgba(60, 64, 67, 0.3), 0px 1px 3px 1px rgba(60, 64, 67, 0.15);\n",
              "      fill: #174EA6;\n",
              "    }\n",
              "\n",
              "    [theme=dark] .colab-df-convert {\n",
              "      background-color: #3B4455;\n",
              "      fill: #D2E3FC;\n",
              "    }\n",
              "\n",
              "    [theme=dark] .colab-df-convert:hover {\n",
              "      background-color: #434B5C;\n",
              "      box-shadow: 0px 1px 3px 1px rgba(0, 0, 0, 0.15);\n",
              "      filter: drop-shadow(0px 1px 2px rgba(0, 0, 0, 0.3));\n",
              "      fill: #FFFFFF;\n",
              "    }\n",
              "  </style>\n",
              "\n",
              "      <script>\n",
              "        const buttonEl =\n",
              "          document.querySelector('#df-95b9321e-a6ba-494f-9003-c980c2e07ca9 button.colab-df-convert');\n",
              "        buttonEl.style.display =\n",
              "          google.colab.kernel.accessAllowed ? 'block' : 'none';\n",
              "\n",
              "        async function convertToInteractive(key) {\n",
              "          const element = document.querySelector('#df-95b9321e-a6ba-494f-9003-c980c2e07ca9');\n",
              "          const dataTable =\n",
              "            await google.colab.kernel.invokeFunction('convertToInteractive',\n",
              "                                                     [key], {});\n",
              "          if (!dataTable) return;\n",
              "\n",
              "          const docLinkHtml = 'Like what you see? Visit the ' +\n",
              "            '<a target=\"_blank\" href=https://colab.research.google.com/notebooks/data_table.ipynb>data table notebook</a>'\n",
              "            + ' to learn more about interactive tables.';\n",
              "          element.innerHTML = '';\n",
              "          dataTable['output_type'] = 'display_data';\n",
              "          await google.colab.output.renderOutput(dataTable, element);\n",
              "          const docLink = document.createElement('div');\n",
              "          docLink.innerHTML = docLinkHtml;\n",
              "          element.appendChild(docLink);\n",
              "        }\n",
              "      </script>\n",
              "    </div>\n",
              "  </div>\n",
              "  "
            ]
          },
          "metadata": {},
          "execution_count": 187
        }
      ]
    },
    {
      "cell_type": "code",
      "source": [
        "df.to_csv('out.csv', sep=',')"
      ],
      "metadata": {
        "id": "p0Z8OJnft9nr"
      },
      "execution_count": 188,
      "outputs": []
    }
  ]
}