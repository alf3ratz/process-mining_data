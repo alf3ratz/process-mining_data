{
 "cells": [
  {
   "cell_type": "code",
   "execution_count": 1,
   "metadata": {
    "id": "RN4fUW5cpekj"
   },
   "outputs": [],
   "source": [
    "import re\n",
    "import numpy as np\n",
    "import pandas as pd"
   ]
  },
  {
   "cell_type": "code",
   "execution_count": 2,
   "metadata": {},
   "outputs": [],
   "source": [
    "PATH = \"../data/Q6\""
   ]
  },
  {
   "cell_type": "code",
   "execution_count": 3,
   "metadata": {
    "id": "_hTp_ywXnYCc"
   },
   "outputs": [
    {
     "data": {
      "text/plain": [
       "['RELATIVE SYSCALL(args) \\t\\t = return',\n",
       " 'dtrace: 813 dynamic variable drops with non-empty dirty list',\n",
       " '   92825 gettimeofday(0x700003993D58, 0x0, 0x0)\\t\\t = 0 0',\n",
       " '  458217 psynch_cvsignal(0x7FE8A00E5EC0, 0xBFD00000BFE00, 0xBFD00)\\t\\t = 257 0',\n",
       " '  458225 gettimeofday(0x7000078FA698, 0x0, 0x0)\\t\\t = 0 0']"
      ]
     },
     "execution_count": 3,
     "metadata": {},
     "output_type": "execute_result"
    }
   ],
   "source": [
    "f = open(PATH + \"_data_full.txt\", \"r\")\n",
    "s = f.read()\n",
    "s = s.split('\\n')\n",
    "s[:5]"
   ]
  },
  {
   "cell_type": "code",
   "execution_count": 4,
   "metadata": {
    "id": "TdOhJANSn3FZ"
   },
   "outputs": [
    {
     "data": {
      "text/plain": [
       "['92825 gettimeofday(0x700003993D58, 0x0, 0x0)\\t\\t = 0 0',\n",
       " '458217 psynch_cvsignal(0x7FE8A00E5EC0, 0xBFD00000BFE00, 0xBFD00)\\t\\t = 257 0',\n",
       " '458225 gettimeofday(0x7000078FA698, 0x0, 0x0)\\t\\t = 0 0']"
      ]
     },
     "execution_count": 4,
     "metadata": {},
     "output_type": "execute_result"
    }
   ],
   "source": [
    "s = [line.strip() for line in s]\n",
    "s = s[2:]\n",
    "s[:3]"
   ]
  },
  {
   "cell_type": "code",
   "execution_count": 5,
   "metadata": {
    "id": "EgeYHLohooOb"
   },
   "outputs": [],
   "source": [
    "s = [re.split('\\(|\\)|,\\s+|\\s+', line)[:5] for line in s]"
   ]
  },
  {
   "cell_type": "code",
   "execution_count": 6,
   "metadata": {
    "id": "jvqxUe3fsWzs"
   },
   "outputs": [],
   "source": [
    "df = pd.DataFrame(columns=['relative_timestamp', 'activity', 'path', 'p2', 'p3'], data=s)\n",
    "df.drop(['p2', 'p3'], axis=1, inplace=True)\n",
    "df.index.name = 'pd_timestamp'\n",
    "df = df.astype(\"string\")"
   ]
  },
  {
   "cell_type": "code",
   "execution_count": 7,
   "metadata": {},
   "outputs": [],
   "source": [
    "# Filter rows with correct path\n",
    "df = df[df[\"path\"].str.contains(\"/IdeaProjects/Comnata\")]#[df[\"path\"].str.contains(\".kt\")]\n",
    "\n",
    "# Extract case_id and put to the separate column\n",
    "df[\"case_id\"] = df[\"path\"].str.extract(r\"(nmbr\\d+)\")[0].str.extract(r\"(\\d+)\")\n",
    "\n",
    "# Create \"activity_file\" column\n",
    "df[\"activity_file\"] = df[\"activity\"] + \" | \" + df[\"path\"].str.extract(r\"([A-Za-z]+\\.[a-z]+)\")[0]\n",
    "\n",
    "# Remove rows with NaN values in \"activity_file\" column\n",
    "df = df[df['activity_file'].notna()]\n",
    "\n",
    "# Ordering\n",
    "df = df[['relative_timestamp', 'activity', 'activity_file', 'case_id', 'path']]"
   ]
  },
  {
   "cell_type": "code",
   "execution_count": 8,
   "metadata": {
    "colab": {
     "base_uri": "https://localhost:8080/",
     "height": 206
    },
    "id": "rqWvyG4uv8VJ",
    "outputId": "d2acc1bb-8bd0-4c86-d16a-bcd53cdcd1c1"
   },
   "outputs": [
    {
     "data": {
      "text/html": [
       "<div>\n",
       "<style scoped>\n",
       "    .dataframe tbody tr th:only-of-type {\n",
       "        vertical-align: middle;\n",
       "    }\n",
       "\n",
       "    .dataframe tbody tr th {\n",
       "        vertical-align: top;\n",
       "    }\n",
       "\n",
       "    .dataframe thead th {\n",
       "        text-align: right;\n",
       "    }\n",
       "</style>\n",
       "<table border=\"1\" class=\"dataframe\">\n",
       "  <thead>\n",
       "    <tr style=\"text-align: right;\">\n",
       "      <th></th>\n",
       "      <th>relative_timestamp</th>\n",
       "      <th>activity</th>\n",
       "      <th>activity_file</th>\n",
       "      <th>case_id</th>\n",
       "      <th>path</th>\n",
       "    </tr>\n",
       "    <tr>\n",
       "      <th>pd_timestamp</th>\n",
       "      <th></th>\n",
       "      <th></th>\n",
       "      <th></th>\n",
       "      <th></th>\n",
       "      <th></th>\n",
       "    </tr>\n",
       "  </thead>\n",
       "  <tbody>\n",
       "    <tr>\n",
       "      <th>2097</th>\n",
       "      <td>1675435</td>\n",
       "      <td>access</td>\n",
       "      <td>access | icon.svg</td>\n",
       "      <td>2</td>\n",
       "      <td>\"/Users/vakosta/Developer/IdeaProjects/Comnata...</td>\n",
       "    </tr>\n",
       "    <tr>\n",
       "      <th>2100</th>\n",
       "      <td>1675481</td>\n",
       "      <td>access</td>\n",
       "      <td>access | icon.png</td>\n",
       "      <td>2</td>\n",
       "      <td>\"/Users/vakosta/Developer/IdeaProjects/Comnata...</td>\n",
       "    </tr>\n",
       "    <tr>\n",
       "      <th>2103</th>\n",
       "      <td>1675702</td>\n",
       "      <td>access</td>\n",
       "      <td>access | icon.svg</td>\n",
       "      <td>1</td>\n",
       "      <td>\"/Users/vakosta/Developer/IdeaProjects/Comnata...</td>\n",
       "    </tr>\n",
       "    <tr>\n",
       "      <th>2105</th>\n",
       "      <td>1675739</td>\n",
       "      <td>access</td>\n",
       "      <td>access | icon.png</td>\n",
       "      <td>1</td>\n",
       "      <td>\"/Users/vakosta/Developer/IdeaProjects/Comnata...</td>\n",
       "    </tr>\n",
       "    <tr>\n",
       "      <th>2235</th>\n",
       "      <td>1676976</td>\n",
       "      <td>access</td>\n",
       "      <td>access | icon.svg</td>\n",
       "      <td>3</td>\n",
       "      <td>\"/Users/vakosta/Developer/IdeaProjects/Comnata...</td>\n",
       "    </tr>\n",
       "  </tbody>\n",
       "</table>\n",
       "</div>"
      ],
      "text/plain": [
       "             relative_timestamp activity      activity_file case_id  \\\n",
       "pd_timestamp                                                          \n",
       "2097                    1675435   access  access | icon.svg       2   \n",
       "2100                    1675481   access  access | icon.png       2   \n",
       "2103                    1675702   access  access | icon.svg       1   \n",
       "2105                    1675739   access  access | icon.png       1   \n",
       "2235                    1676976   access  access | icon.svg       3   \n",
       "\n",
       "                                                           path  \n",
       "pd_timestamp                                                     \n",
       "2097          \"/Users/vakosta/Developer/IdeaProjects/Comnata...  \n",
       "2100          \"/Users/vakosta/Developer/IdeaProjects/Comnata...  \n",
       "2103          \"/Users/vakosta/Developer/IdeaProjects/Comnata...  \n",
       "2105          \"/Users/vakosta/Developer/IdeaProjects/Comnata...  \n",
       "2235          \"/Users/vakosta/Developer/IdeaProjects/Comnata...  "
      ]
     },
     "execution_count": 8,
     "metadata": {},
     "output_type": "execute_result"
    }
   ],
   "source": [
    "df.head()"
   ]
  },
  {
   "cell_type": "code",
   "execution_count": 9,
   "metadata": {
    "id": "p0Z8OJnft9nr"
   },
   "outputs": [],
   "source": [
    "df.to_csv(PATH + \"_data_filtered.csv\", sep=',')"
   ]
  }
 ],
 "metadata": {
  "colab": {
   "provenance": []
  },
  "kernelspec": {
   "display_name": "Python 3 (ipykernel)",
   "language": "python",
   "name": "python3"
  },
  "language_info": {
   "codemirror_mode": {
    "name": "ipython",
    "version": 3
   },
   "file_extension": ".py",
   "mimetype": "text/x-python",
   "name": "python",
   "nbconvert_exporter": "python",
   "pygments_lexer": "ipython3",
   "version": "3.9.13"
  }
 },
 "nbformat": 4,
 "nbformat_minor": 1
}
