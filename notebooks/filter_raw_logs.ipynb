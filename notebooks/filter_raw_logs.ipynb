{
 "cells": [
  {
   "cell_type": "code",
   "execution_count": 1,
   "metadata": {
    "id": "RN4fUW5cpekj"
   },
   "outputs": [],
   "source": [
    "import re\n",
    "import numpy as np\n",
    "import pandas as pd"
   ]
  },
  {
   "cell_type": "code",
   "execution_count": 2,
   "metadata": {},
   "outputs": [],
   "source": [
    "PATH = \"../data/Q2\""
   ]
  },
  {
   "cell_type": "code",
   "execution_count": 3,
   "metadata": {
    "id": "_hTp_ywXnYCc"
   },
   "outputs": [
    {
     "data": {
      "text/plain": [
       "['RELATIVE SYSCALL(args) \\t\\t = return',\n",
       " 'dtrace: 114 dynamic variable drops with non-empty dirty list',\n",
       " ' 5397140 psynch_cvsignal(0x7FB56F8AE4C0, 0x2AB2F0002AB3000, 0x2AB2F00)\\t\\t = 257 0',\n",
       " ' 5397144 gettimeofday(0x7000152B67C8, 0x0, 0x0)\\t\\t = 0 0',\n",
       " '106783647 psynch_cvsignal(0x7FB56F8AA8C0, 0x144C0000144C100, 0x144BF00)\\t\\t = 257 0']"
      ]
     },
     "execution_count": 3,
     "metadata": {},
     "output_type": "execute_result"
    }
   ],
   "source": [
    "f = open(PATH + \"_data_full.txt\", \"r\")\n",
    "s = f.read()\n",
    "s = s.split('\\n')\n",
    "s[:5]"
   ]
  },
  {
   "cell_type": "code",
   "execution_count": 4,
   "metadata": {
    "id": "TdOhJANSn3FZ"
   },
   "outputs": [
    {
     "data": {
      "text/plain": [
       "['5397140 psynch_cvsignal(0x7FB56F8AE4C0, 0x2AB2F0002AB3000, 0x2AB2F00)\\t\\t = 257 0',\n",
       " '5397144 gettimeofday(0x7000152B67C8, 0x0, 0x0)\\t\\t = 0 0',\n",
       " '106783647 psynch_cvsignal(0x7FB56F8AA8C0, 0x144C0000144C100, 0x144BF00)\\t\\t = 257 0']"
      ]
     },
     "execution_count": 4,
     "metadata": {},
     "output_type": "execute_result"
    }
   ],
   "source": [
    "s = [line.strip() for line in s]\n",
    "s = s[2:]\n",
    "s[:3]"
   ]
  },
  {
   "cell_type": "code",
   "execution_count": 5,
   "metadata": {
    "id": "EgeYHLohooOb"
   },
   "outputs": [],
   "source": [
    "s = [re.split('\\(|\\)|,\\s+|\\s+', line)[:5] for line in s]"
   ]
  },
  {
   "cell_type": "code",
   "execution_count": 6,
   "metadata": {
    "id": "jvqxUe3fsWzs"
   },
   "outputs": [],
   "source": [
    "df = pd.DataFrame(columns=['relative_timestamp', 'activity', 'path', 'p2', 'p3'], data=s)\n",
    "df.drop(['p2', 'p3'], axis=1, inplace=True)\n",
    "df.index.name = 'pd_timestamp'\n",
    "df = df.astype(\"string\")"
   ]
  },
  {
   "cell_type": "code",
   "execution_count": 7,
   "metadata": {},
   "outputs": [
    {
     "name": "stderr",
     "output_type": "stream",
     "text": [
      "/var/folders/hg/5ywdl7v542z8hcr7kg05v66h0000gn/T/ipykernel_15608/799959598.py:1: UserWarning: Boolean Series key will be reindexed to match DataFrame index.\n",
      "  df = df[df[\"path\"].str.contains(\"/Comnata\")][df[\"path\"].str.contains(\".kt\")]\n"
     ]
    }
   ],
   "source": [
    "df = df[df[\"path\"].str.contains(\"/Comnata\")][df[\"path\"].str.contains(\".kt\")]\n",
    "df[\"case_id\"] = df[\"path\"].str.extract(r\"(nmbr\\d+)\")[0].str.extract(r\"(\\d+)\")\n",
    "df[\"activity_file\"] = df[\"activity\"] + \" | \" + df[\"path\"].str.extract(r\"([A-Za-z]+\\.kt)\")[0]\n",
    "df = df[df['activity_file'].notna()]"
   ]
  },
  {
   "cell_type": "code",
   "execution_count": 8,
   "metadata": {
    "colab": {
     "base_uri": "https://localhost:8080/",
     "height": 206
    },
    "id": "rqWvyG4uv8VJ",
    "outputId": "d2acc1bb-8bd0-4c86-d16a-bcd53cdcd1c1"
   },
   "outputs": [
    {
     "data": {
      "text/html": [
       "<div>\n",
       "<style scoped>\n",
       "    .dataframe tbody tr th:only-of-type {\n",
       "        vertical-align: middle;\n",
       "    }\n",
       "\n",
       "    .dataframe tbody tr th {\n",
       "        vertical-align: top;\n",
       "    }\n",
       "\n",
       "    .dataframe thead th {\n",
       "        text-align: right;\n",
       "    }\n",
       "</style>\n",
       "<table border=\"1\" class=\"dataframe\">\n",
       "  <thead>\n",
       "    <tr style=\"text-align: right;\">\n",
       "      <th></th>\n",
       "      <th>relative_timestamp</th>\n",
       "      <th>activity</th>\n",
       "      <th>path</th>\n",
       "      <th>case_id</th>\n",
       "      <th>activity_file</th>\n",
       "    </tr>\n",
       "    <tr>\n",
       "      <th>pd_timestamp</th>\n",
       "      <th></th>\n",
       "      <th></th>\n",
       "      <th></th>\n",
       "      <th></th>\n",
       "      <th></th>\n",
       "    </tr>\n",
       "  </thead>\n",
       "  <tbody>\n",
       "    <tr>\n",
       "      <th>90662</th>\n",
       "      <td>976626</td>\n",
       "      <td>stat64</td>\n",
       "      <td>\"/Users/vakosta/Developer/IdeaProjects/Comnata...</td>\n",
       "      <td>2</td>\n",
       "      <td>stat64 | gradle.kt</td>\n",
       "    </tr>\n",
       "    <tr>\n",
       "      <th>90686</th>\n",
       "      <td>976739</td>\n",
       "      <td>stat64</td>\n",
       "      <td>\"/Users/vakosta/Developer/IdeaProjects/Comnata...</td>\n",
       "      <td>2</td>\n",
       "      <td>stat64 | gradle.kt</td>\n",
       "    </tr>\n",
       "    <tr>\n",
       "      <th>117003</th>\n",
       "      <td>2035349</td>\n",
       "      <td>open</td>\n",
       "      <td>\"/Users/vakosta/Developer/IdeaProjects/Comnata...</td>\n",
       "      <td>2</td>\n",
       "      <td>open | MainServiceApplication.kt</td>\n",
       "    </tr>\n",
       "    <tr>\n",
       "      <th>230578</th>\n",
       "      <td>271729</td>\n",
       "      <td>lstat</td>\n",
       "      <td>\"/Users/vakosta/Developer/IdeaProjects/Comnata...</td>\n",
       "      <td>4</td>\n",
       "      <td>lstat | WebsocketEventListener.kt</td>\n",
       "    </tr>\n",
       "    <tr>\n",
       "      <th>230579</th>\n",
       "      <td>4518584</td>\n",
       "      <td>lstat</td>\n",
       "      <td>\"/Users/vakosta/Developer/IdeaProjects/Comnata...</td>\n",
       "      <td>4</td>\n",
       "      <td>lstat | RoomRepository.kt</td>\n",
       "    </tr>\n",
       "  </tbody>\n",
       "</table>\n",
       "</div>"
      ],
      "text/plain": [
       "             relative_timestamp activity  \\\n",
       "pd_timestamp                               \n",
       "90662                    976626   stat64   \n",
       "90686                    976739   stat64   \n",
       "117003                  2035349     open   \n",
       "230578                   271729    lstat   \n",
       "230579                  4518584    lstat   \n",
       "\n",
       "                                                           path case_id  \\\n",
       "pd_timestamp                                                              \n",
       "90662         \"/Users/vakosta/Developer/IdeaProjects/Comnata...       2   \n",
       "90686         \"/Users/vakosta/Developer/IdeaProjects/Comnata...       2   \n",
       "117003        \"/Users/vakosta/Developer/IdeaProjects/Comnata...       2   \n",
       "230578        \"/Users/vakosta/Developer/IdeaProjects/Comnata...       4   \n",
       "230579        \"/Users/vakosta/Developer/IdeaProjects/Comnata...       4   \n",
       "\n",
       "                                  activity_file  \n",
       "pd_timestamp                                     \n",
       "90662                        stat64 | gradle.kt  \n",
       "90686                        stat64 | gradle.kt  \n",
       "117003         open | MainServiceApplication.kt  \n",
       "230578        lstat | WebsocketEventListener.kt  \n",
       "230579                lstat | RoomRepository.kt  "
      ]
     },
     "execution_count": 8,
     "metadata": {},
     "output_type": "execute_result"
    }
   ],
   "source": [
    "df.head()"
   ]
  },
  {
   "cell_type": "code",
   "execution_count": 9,
   "metadata": {
    "id": "p0Z8OJnft9nr"
   },
   "outputs": [],
   "source": [
    "df.to_csv(PATH + \"_data_filtered.csv\", sep=',')"
   ]
  }
 ],
 "metadata": {
  "colab": {
   "provenance": []
  },
  "kernelspec": {
   "display_name": "Python 3 (ipykernel)",
   "language": "python",
   "name": "python3"
  },
  "language_info": {
   "codemirror_mode": {
    "name": "ipython",
    "version": 3
   },
   "file_extension": ".py",
   "mimetype": "text/x-python",
   "name": "python",
   "nbconvert_exporter": "python",
   "pygments_lexer": "ipython3",
   "version": "3.9.13"
  }
 },
 "nbformat": 4,
 "nbformat_minor": 1
}
