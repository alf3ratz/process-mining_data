{
 "cells": [
  {
   "cell_type": "code",
   "execution_count": 1,
   "metadata": {},
   "outputs": [],
   "source": [
    "import pandas as pd\n",
    "import pm4py"
   ]
  },
  {
   "cell_type": "code",
   "execution_count": 2,
   "metadata": {},
   "outputs": [
    {
     "data": {
      "text/html": [
       "<div>\n",
       "<style scoped>\n",
       "    .dataframe tbody tr th:only-of-type {\n",
       "        vertical-align: middle;\n",
       "    }\n",
       "\n",
       "    .dataframe tbody tr th {\n",
       "        vertical-align: top;\n",
       "    }\n",
       "\n",
       "    .dataframe thead th {\n",
       "        text-align: right;\n",
       "    }\n",
       "</style>\n",
       "<table border=\"1\" class=\"dataframe\">\n",
       "  <thead>\n",
       "    <tr style=\"text-align: right;\">\n",
       "      <th></th>\n",
       "      <th>pd_timestamp</th>\n",
       "      <th>relative_timestamp</th>\n",
       "      <th>activity</th>\n",
       "      <th>path</th>\n",
       "      <th>case_id</th>\n",
       "      <th>activity_file</th>\n",
       "    </tr>\n",
       "  </thead>\n",
       "  <tbody>\n",
       "    <tr>\n",
       "      <th>0</th>\n",
       "      <td>0 days 00:00:00.090662</td>\n",
       "      <td>0 days 00:00:00.976626</td>\n",
       "      <td>stat64</td>\n",
       "      <td>\"/Users/vakosta/Developer/IdeaProjects/Comnata...</td>\n",
       "      <td>2</td>\n",
       "      <td>stat64 | gradle.kt</td>\n",
       "    </tr>\n",
       "    <tr>\n",
       "      <th>1</th>\n",
       "      <td>0 days 00:00:00.090686</td>\n",
       "      <td>0 days 00:00:00.976739</td>\n",
       "      <td>stat64</td>\n",
       "      <td>\"/Users/vakosta/Developer/IdeaProjects/Comnata...</td>\n",
       "      <td>2</td>\n",
       "      <td>stat64 | gradle.kt</td>\n",
       "    </tr>\n",
       "    <tr>\n",
       "      <th>2</th>\n",
       "      <td>0 days 00:00:00.117003</td>\n",
       "      <td>0 days 00:00:02.035349</td>\n",
       "      <td>open</td>\n",
       "      <td>\"/Users/vakosta/Developer/IdeaProjects/Comnata...</td>\n",
       "      <td>2</td>\n",
       "      <td>open | MainServiceApplication.kt</td>\n",
       "    </tr>\n",
       "    <tr>\n",
       "      <th>3</th>\n",
       "      <td>0 days 00:00:00.230578</td>\n",
       "      <td>0 days 00:00:00.271729</td>\n",
       "      <td>lstat</td>\n",
       "      <td>\"/Users/vakosta/Developer/IdeaProjects/Comnata...</td>\n",
       "      <td>4</td>\n",
       "      <td>lstat | WebsocketEventListener.kt</td>\n",
       "    </tr>\n",
       "    <tr>\n",
       "      <th>4</th>\n",
       "      <td>0 days 00:00:00.230579</td>\n",
       "      <td>0 days 00:00:04.518584</td>\n",
       "      <td>lstat</td>\n",
       "      <td>\"/Users/vakosta/Developer/IdeaProjects/Comnata...</td>\n",
       "      <td>4</td>\n",
       "      <td>lstat | RoomRepository.kt</td>\n",
       "    </tr>\n",
       "  </tbody>\n",
       "</table>\n",
       "</div>"
      ],
      "text/plain": [
       "            pd_timestamp     relative_timestamp activity  \\\n",
       "0 0 days 00:00:00.090662 0 days 00:00:00.976626   stat64   \n",
       "1 0 days 00:00:00.090686 0 days 00:00:00.976739   stat64   \n",
       "2 0 days 00:00:00.117003 0 days 00:00:02.035349     open   \n",
       "3 0 days 00:00:00.230578 0 days 00:00:00.271729    lstat   \n",
       "4 0 days 00:00:00.230579 0 days 00:00:04.518584    lstat   \n",
       "\n",
       "                                                path case_id  \\\n",
       "0  \"/Users/vakosta/Developer/IdeaProjects/Comnata...       2   \n",
       "1  \"/Users/vakosta/Developer/IdeaProjects/Comnata...       2   \n",
       "2  \"/Users/vakosta/Developer/IdeaProjects/Comnata...       2   \n",
       "3  \"/Users/vakosta/Developer/IdeaProjects/Comnata...       4   \n",
       "4  \"/Users/vakosta/Developer/IdeaProjects/Comnata...       4   \n",
       "\n",
       "                       activity_file  \n",
       "0                 stat64 | gradle.kt  \n",
       "1                 stat64 | gradle.kt  \n",
       "2   open | MainServiceApplication.kt  \n",
       "3  lstat | WebsocketEventListener.kt  \n",
       "4          lstat | RoomRepository.kt  "
      ]
     },
     "execution_count": 2,
     "metadata": {},
     "output_type": "execute_result"
    }
   ],
   "source": [
    "df = pd.read_csv(\"../data/Q2_data_filtered.csv\", sep=\",\")\n",
    "df[\"case_id\"] = df[\"case_id\"].astype(str)\n",
    "df[\"activity\"] = df[\"activity\"].astype(str)\n",
    "df[\"pd_timestamp\"] = pd.to_timedelta(df['pd_timestamp'], unit='us')\n",
    "df[\"relative_timestamp\"] = pd.to_timedelta(df['relative_timestamp'], unit='us')\n",
    "df.head()"
   ]
  },
  {
   "cell_type": "code",
   "execution_count": 3,
   "metadata": {},
   "outputs": [
    {
     "data": {
      "image/png": "[encoded data removed]",
      "text/plain": [
       "<IPython.core.display.Image object>"
      ]
     },
     "metadata": {},
     "output_type": "display_data"
    }
   ],
   "source": [
    "net, im, fm = pm4py.discover_petri_net_alpha(\n",
    "    df,\n",
    "    activity_key='activity',\n",
    "    case_id_key='case_id',\n",
    "    timestamp_key='pd_timestamp')\n",
    "pm4py.view_petri_net(net, im, fm, format='png')"
   ]
  },
  {
   "cell_type": "code",
   "execution_count": 4,
   "metadata": {},
   "outputs": [],
   "source": [
    "log_skeleton = pm4py.discover_log_skeleton(\n",
    "    df,\n",
    "    noise_threshold=0.1,\n",
    "    activity_key='activity',\n",
    "    case_id_key='case_id',\n",
    "    timestamp_key='pd_timestamp')\n",
    "log_skeleton2 = pm4py.conformance_log_skeleton(\n",
    "    df,\n",
    "    log_skeleton,\n",
    "    activity_key='activity',\n",
    "    case_id_key='case_id',\n",
    "    timestamp_key='pd_timestamp')"
   ]
  },
  {
   "cell_type": "markdown",
   "metadata": {},
   "source": [
    "```\n",
    "pm4py.write_xes(\n",
    "    df,\n",
    "    './final_logs.xes',\n",
    "    activity_key='event',\n",
    "    case_id_key='case_id',\n",
    "    timestamp_key='timestamp')\n",
    "```"
   ]
  }
 ],
 "metadata": {
  "kernelspec": {
   "display_name": "Python 3 (ipykernel)",
   "language": "python",
   "name": "python3"
  },
  "language_info": {
   "codemirror_mode": {
    "name": "ipython",
    "version": 3
   },
   "file_extension": ".py",
   "mimetype": "text/x-python",
   "name": "python",
   "nbconvert_exporter": "python",
   "pygments_lexer": "ipython3",
   "version": "3.9.13"
  }
 },
 "nbformat": 4,
 "nbformat_minor": 1
}
