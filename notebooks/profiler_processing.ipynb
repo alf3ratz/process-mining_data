{
 "cells": [
  {
   "cell_type": "code",
   "execution_count": 54,
   "metadata": {},
   "outputs": [],
   "source": [
    "import pandas as pd\n",
    "import pm4py"
   ]
  },
  {
   "cell_type": "code",
   "execution_count": 55,
   "metadata": {},
   "outputs": [
    {
     "data": {
      "text/html": [
       "<div>\n",
       "<style scoped>\n",
       "    .dataframe tbody tr th:only-of-type {\n",
       "        vertical-align: middle;\n",
       "    }\n",
       "\n",
       "    .dataframe tbody tr th {\n",
       "        vertical-align: top;\n",
       "    }\n",
       "\n",
       "    .dataframe thead th {\n",
       "        text-align: right;\n",
       "    }\n",
       "</style>\n",
       "<table border=\"1\" class=\"dataframe\">\n",
       "  <thead>\n",
       "    <tr style=\"text-align: right;\">\n",
       "      <th></th>\n",
       "      <th>Unnamed: 0</th>\n",
       "      <th>relative_timestamp</th>\n",
       "      <th>operation</th>\n",
       "      <th>p1</th>\n",
       "      <th>p2</th>\n",
       "      <th>p3</th>\n",
       "      <th>case_id</th>\n",
       "      <th>event</th>\n",
       "      <th>timestamp</th>\n",
       "    </tr>\n",
       "  </thead>\n",
       "  <tbody>\n",
       "    <tr>\n",
       "      <th>0</th>\n",
       "      <td>1882</td>\n",
       "      <td>243690</td>\n",
       "      <td>open</td>\n",
       "      <td>\"/Users/vakosta/Library/Caches/JetBrains/Intel...</td>\n",
       "      <td>0x202</td>\n",
       "      <td>0x1B6</td>\n",
       "      <td>1882</td>\n",
       "      <td>open</td>\n",
       "      <td>0 days 00:00:00.243690</td>\n",
       "    </tr>\n",
       "    <tr>\n",
       "      <th>1</th>\n",
       "      <td>26669</td>\n",
       "      <td>10719404</td>\n",
       "      <td>stat64</td>\n",
       "      <td>\"/Users/vakosta/Developer/IdeaProjects/Comnata...</td>\n",
       "      <td>0x70000FA0F3A0</td>\n",
       "      <td>0x0</td>\n",
       "      <td>26669</td>\n",
       "      <td>stat64</td>\n",
       "      <td>0 days 00:00:10.719404</td>\n",
       "    </tr>\n",
       "    <tr>\n",
       "      <th>2</th>\n",
       "      <td>26670</td>\n",
       "      <td>10719444</td>\n",
       "      <td>stat64</td>\n",
       "      <td>\"/Users/vakosta/Developer/IdeaProjects/Comnata...</td>\n",
       "      <td>0x70000FA0F3A0</td>\n",
       "      <td>0x0</td>\n",
       "      <td>26670</td>\n",
       "      <td>stat64</td>\n",
       "      <td>0 days 00:00:10.719444</td>\n",
       "    </tr>\n",
       "    <tr>\n",
       "      <th>3</th>\n",
       "      <td>26675</td>\n",
       "      <td>10721395</td>\n",
       "      <td>stat64</td>\n",
       "      <td>\"/Users/vakosta/Developer/IdeaProjects/Comnata...</td>\n",
       "      <td>0x70000FA0EEC0</td>\n",
       "      <td>0x0</td>\n",
       "      <td>26675</td>\n",
       "      <td>stat64</td>\n",
       "      <td>0 days 00:00:10.721395</td>\n",
       "    </tr>\n",
       "    <tr>\n",
       "      <th>4</th>\n",
       "      <td>26676</td>\n",
       "      <td>10721423</td>\n",
       "      <td>stat64</td>\n",
       "      <td>\"/Users/vakosta/Developer/IdeaProjects/Comnata...</td>\n",
       "      <td>0x70000FA0EEC0</td>\n",
       "      <td>0x0</td>\n",
       "      <td>26676</td>\n",
       "      <td>stat64</td>\n",
       "      <td>0 days 00:00:10.721423</td>\n",
       "    </tr>\n",
       "  </tbody>\n",
       "</table>\n",
       "</div>"
      ],
      "text/plain": [
       "   Unnamed: 0  relative_timestamp operation  \\\n",
       "0        1882              243690      open   \n",
       "1       26669            10719404    stat64   \n",
       "2       26670            10719444    stat64   \n",
       "3       26675            10721395    stat64   \n",
       "4       26676            10721423    stat64   \n",
       "\n",
       "                                                  p1              p2     p3  \\\n",
       "0  \"/Users/vakosta/Library/Caches/JetBrains/Intel...           0x202  0x1B6   \n",
       "1  \"/Users/vakosta/Developer/IdeaProjects/Comnata...  0x70000FA0F3A0    0x0   \n",
       "2  \"/Users/vakosta/Developer/IdeaProjects/Comnata...  0x70000FA0F3A0    0x0   \n",
       "3  \"/Users/vakosta/Developer/IdeaProjects/Comnata...  0x70000FA0EEC0    0x0   \n",
       "4  \"/Users/vakosta/Developer/IdeaProjects/Comnata...  0x70000FA0EEC0    0x0   \n",
       "\n",
       "  case_id   event              timestamp  \n",
       "0    1882    open 0 days 00:00:00.243690  \n",
       "1   26669  stat64 0 days 00:00:10.719404  \n",
       "2   26670  stat64 0 days 00:00:10.719444  \n",
       "3   26675  stat64 0 days 00:00:10.721395  \n",
       "4   26676  stat64 0 days 00:00:10.721423  "
      ]
     },
     "execution_count": 55,
     "metadata": {},
     "output_type": "execute_result"
    }
   ],
   "source": [
    "df = pd.read_csv(\"../data/Q6_data_filtered.csv\", sep=\",\")\n",
    "df[\"case_id\"] = df[\"Unnamed: 0\"].astype(str)\n",
    "df[\"event\"] = df[\"operation\"].astype(str)\n",
    "df[\"timestamp\"] = pd.to_timedelta(df['relative_timestamp'], unit='us')\n",
    "df.head()"
   ]
  },
  {
   "cell_type": "code",
   "execution_count": 57,
   "metadata": {},
   "outputs": [
    {
     "data": {
      "image/png": "[encoded data removed]",
      "text/plain": [
       "<IPython.core.display.Image object>"
      ]
     },
     "metadata": {},
     "output_type": "display_data"
    }
   ],
   "source": [
    "net, im, fm = pm4py.discover_petri_net_alpha(\n",
    "    df,\n",
    "    activity_key='event',\n",
    "    case_id_key='case_id',\n",
    "    timestamp_key='timestamp')\n",
    "pm4py.view_petri_net(net, im, fm, format='png')"
   ]
  },
  {
   "cell_type": "code",
   "execution_count": 59,
   "metadata": {},
   "outputs": [],
   "source": [
    "log_skeleton = pm4py.discover_log_skeleton(\n",
    "    df,\n",
    "    noise_threshold=0.1,\n",
    "    activity_key='event',\n",
    "    case_id_key='case_id',\n",
    "    timestamp_key='timestamp')\n",
    "log_skeleton2 = pm4py.conformance_log_skeleton(\n",
    "    df,\n",
    "    log_skeleton,\n",
    "    activity_key='event',\n",
    "    case_id_key='case_id',\n",
    "    timestamp_key='timestamp')"
   ]
  },
  {
   "cell_type": "code",
   "execution_count": null,
   "metadata": {},
   "outputs": [],
   "source": []
  },
  {
   "cell_type": "markdown",
   "metadata": {},
   "source": [
    "pm4py.write_xes(\n",
    "    df,\n",
    "    './final_logs.xes',\n",
    "    activity_key='event',\n",
    "    case_id_key='case_id',\n",
    "    timestamp_key='timestamp')"
   ]
  }
 ],
 "metadata": {
  "kernelspec": {
   "display_name": "Python 3 (ipykernel)",
   "language": "python",
   "name": "python3"
  },
  "language_info": {
   "codemirror_mode": {
    "name": "ipython",
    "version": 3
   },
   "file_extension": ".py",
   "mimetype": "text/x-python",
   "name": "python",
   "nbconvert_exporter": "python",
   "pygments_lexer": "ipython3",
   "version": "3.9.13"
  }
 },
 "nbformat": 4,
 "nbformat_minor": 1
}
